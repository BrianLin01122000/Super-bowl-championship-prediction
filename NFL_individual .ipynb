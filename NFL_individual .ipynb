{
 "cells": [
  {
   "cell_type": "code",
   "execution_count": 26,
   "id": "47e3771a",
   "metadata": {},
   "outputs": [],
   "source": [
    "import pandas as pd\n",
    "from sklearn.linear_model import LinearRegression\n",
    "from sklearn.linear_model import LogisticRegression"
   ]
  },
  {
   "cell_type": "code",
   "execution_count": 14,
   "id": "65f43f7d",
   "metadata": {},
   "outputs": [],
   "source": [
    "file  = pd.read_excel(r'C:\\Users\\Brian Lin\\Desktop\\UCI\\3rd quarter\\Applied Forecast Modeling\\NFL event\\newdata.xlsx')\n",
    "test = pd.read_excel(r'C:\\Users\\Brian Lin\\Desktop\\UCI\\3rd quarter\\Applied Forecast Modeling\\NFL event\\NFL Data1.xlsx')"
   ]
  },
  {
   "cell_type": "code",
   "execution_count": 194,
   "id": "e10a3a47",
   "metadata": {},
   "outputs": [
    {
     "data": {
      "text/plain": [
       "['Team1',\n",
       " 'Team2',\n",
       " 'Team1_Score',\n",
       " 'Team2_Score',\n",
       " 'Team1_Passing',\n",
       " 'Team1_Rushing',\n",
       " 'Team1_Turnovers',\n",
       " 'Team2_Passing',\n",
       " 'Team2_Rushing',\n",
       " 'Team2_Turnovers',\n",
       " 'Team1_win',\n",
       " 'team1_offence_rushing',\n",
       " 'team1_offence_passing ',\n",
       " 'team1_offence_overall',\n",
       " 'team1_defence_rushing',\n",
       " 'team1_defence_passing',\n",
       " 'team1_defence_overall ',\n",
       " 'team2_defence_rushing',\n",
       " 'team2_defence_passing',\n",
       " 'team2_defence_overall',\n",
       " 'team2_offence_rushing',\n",
       " 'team2_offence_passing',\n",
       " 'team2_offence_overall']"
      ]
     },
     "execution_count": 194,
     "metadata": {},
     "output_type": "execute_result"
    }
   ],
   "source": [
    "list(file)"
   ]
  },
  {
   "cell_type": "code",
   "execution_count": null,
   "id": "9494c51b",
   "metadata": {},
   "outputs": [],
   "source": []
  },
  {
   "cell_type": "code",
   "execution_count": 192,
   "id": "20b05cf6",
   "metadata": {},
   "outputs": [],
   "source": [
    "filename =list(file)[11:]\n",
    "testnew = test.iloc[:,1:]\n",
    "testnew.columns = filename \n"
   ]
  },
  {
   "cell_type": "code",
   "execution_count": 219,
   "id": "97a04318",
   "metadata": {},
   "outputs": [
    {
     "data": {
      "text/html": [
       "<div>\n",
       "<style scoped>\n",
       "    .dataframe tbody tr th:only-of-type {\n",
       "        vertical-align: middle;\n",
       "    }\n",
       "\n",
       "    .dataframe tbody tr th {\n",
       "        vertical-align: top;\n",
       "    }\n",
       "\n",
       "    .dataframe thead th {\n",
       "        text-align: right;\n",
       "    }\n",
       "</style>\n",
       "<table border=\"1\" class=\"dataframe\">\n",
       "  <thead>\n",
       "    <tr style=\"text-align: right;\">\n",
       "      <th></th>\n",
       "      <th>Team1</th>\n",
       "      <th>offence1_RUSHING</th>\n",
       "      <th>offence1_PASSING</th>\n",
       "      <th>offence1_OVERALL</th>\n",
       "      <th>defence1_RUSHING</th>\n",
       "      <th>defence1_PASSING</th>\n",
       "      <th>defence1_OVERALL</th>\n",
       "      <th>offence_RUSHING</th>\n",
       "      <th>offence_PASSING</th>\n",
       "      <th>offence_OVERALL</th>\n",
       "      <th>defence_RUSHING</th>\n",
       "      <th>defence_PASSING</th>\n",
       "      <th>defence_OVERALL</th>\n",
       "    </tr>\n",
       "  </thead>\n",
       "  <tbody>\n",
       "    <tr>\n",
       "      <th>0</th>\n",
       "      <td>Philadelphia Eagles</td>\n",
       "      <td>147.6</td>\n",
       "      <td>256.7</td>\n",
       "      <td>389.1</td>\n",
       "      <td>121.6</td>\n",
       "      <td>208.7</td>\n",
       "      <td>301.5</td>\n",
       "      <td>115.9</td>\n",
       "      <td>308.8</td>\n",
       "      <td>413.6</td>\n",
       "      <td>107.2</td>\n",
       "      <td>243.8</td>\n",
       "      <td>328.2</td>\n",
       "    </tr>\n",
       "  </tbody>\n",
       "</table>\n",
       "</div>"
      ],
      "text/plain": [
       "                 Team1  offence1_RUSHING  offence1_PASSING  offence1_OVERALL  \\\n",
       "0  Philadelphia Eagles             147.6             256.7             389.1   \n",
       "\n",
       "   defence1_RUSHING  defence1_PASSING  defence1_OVERALL  offence_RUSHING  \\\n",
       "0             121.6             208.7             301.5            115.9   \n",
       "\n",
       "   offence_PASSING  offence_OVERALL  defence_RUSHING  defence_PASSING  \\\n",
       "0            308.8            413.6            107.2            243.8   \n",
       "\n",
       "   defence_OVERALL  \n",
       "0            328.2  "
      ]
     },
     "execution_count": 219,
     "metadata": {},
     "output_type": "execute_result"
    }
   ],
   "source": [
    "test"
   ]
  },
  {
   "cell_type": "code",
   "execution_count": 107,
   "id": "85a5fdee",
   "metadata": {},
   "outputs": [
    {
     "data": {
      "text/html": [
       "<div>\n",
       "<style scoped>\n",
       "    .dataframe tbody tr th:only-of-type {\n",
       "        vertical-align: middle;\n",
       "    }\n",
       "\n",
       "    .dataframe tbody tr th {\n",
       "        vertical-align: top;\n",
       "    }\n",
       "\n",
       "    .dataframe thead th {\n",
       "        text-align: right;\n",
       "    }\n",
       "</style>\n",
       "<table border=\"1\" class=\"dataframe\">\n",
       "  <thead>\n",
       "    <tr style=\"text-align: right;\">\n",
       "      <th></th>\n",
       "      <th>Team1</th>\n",
       "      <th>Team2</th>\n",
       "      <th>Team1_Score</th>\n",
       "      <th>Team2_Score</th>\n",
       "      <th>Team1_Passing</th>\n",
       "      <th>Team1_Rushing</th>\n",
       "      <th>Team1_Turnovers</th>\n",
       "      <th>Team2_Passing</th>\n",
       "      <th>Team2_Rushing</th>\n",
       "      <th>Team2_Turnovers</th>\n",
       "      <th>...</th>\n",
       "      <th>team1_offence_overall</th>\n",
       "      <th>team1_defence_rushing</th>\n",
       "      <th>team1_defence_passing</th>\n",
       "      <th>team1_defence_overall</th>\n",
       "      <th>team2_defence_rushing</th>\n",
       "      <th>team2_defence_passing</th>\n",
       "      <th>team2_defence_overall</th>\n",
       "      <th>team2_offence_rushing</th>\n",
       "      <th>team2_offence_passing</th>\n",
       "      <th>team2_offence_overall</th>\n",
       "    </tr>\n",
       "  </thead>\n",
       "  <tbody>\n",
       "    <tr>\n",
       "      <th>0</th>\n",
       "      <td>Philadelphia Eagles</td>\n",
       "      <td>Minnesota Vikings</td>\n",
       "      <td>24</td>\n",
       "      <td>7</td>\n",
       "      <td>323</td>\n",
       "      <td>163</td>\n",
       "      <td>1</td>\n",
       "      <td>202</td>\n",
       "      <td>62</td>\n",
       "      <td>3</td>\n",
       "      <td>...</td>\n",
       "      <td>389.1</td>\n",
       "      <td>121.6</td>\n",
       "      <td>208.7</td>\n",
       "      <td>301.5</td>\n",
       "      <td>123.1</td>\n",
       "      <td>279.8</td>\n",
       "      <td>388.7</td>\n",
       "      <td>97.7</td>\n",
       "      <td>283.4</td>\n",
       "      <td>361.5</td>\n",
       "    </tr>\n",
       "    <tr>\n",
       "      <th>1</th>\n",
       "      <td>Philadelphia Eagles</td>\n",
       "      <td>Chicago Bears</td>\n",
       "      <td>25</td>\n",
       "      <td>20</td>\n",
       "      <td>309</td>\n",
       "      <td>112</td>\n",
       "      <td>3</td>\n",
       "      <td>91</td>\n",
       "      <td>157</td>\n",
       "      <td>1</td>\n",
       "      <td>...</td>\n",
       "      <td>389.1</td>\n",
       "      <td>121.6</td>\n",
       "      <td>208.7</td>\n",
       "      <td>301.5</td>\n",
       "      <td>157.3</td>\n",
       "      <td>225.9</td>\n",
       "      <td>375.9</td>\n",
       "      <td>177.3</td>\n",
       "      <td>152.8</td>\n",
       "      <td>307.8</td>\n",
       "    </tr>\n",
       "    <tr>\n",
       "      <th>2</th>\n",
       "      <td>Kansas City Chiefs</td>\n",
       "      <td>Los Angeles Chargers</td>\n",
       "      <td>27</td>\n",
       "      <td>24</td>\n",
       "      <td>226</td>\n",
       "      <td>93</td>\n",
       "      <td>0</td>\n",
       "      <td>326</td>\n",
       "      <td>75</td>\n",
       "      <td>1</td>\n",
       "      <td>...</td>\n",
       "      <td>413.6</td>\n",
       "      <td>107.2</td>\n",
       "      <td>243.8</td>\n",
       "      <td>328.2</td>\n",
       "      <td>145.8</td>\n",
       "      <td>217.2</td>\n",
       "      <td>346.1</td>\n",
       "      <td>89.6</td>\n",
       "      <td>281.8</td>\n",
       "      <td>359.3</td>\n",
       "    </tr>\n",
       "    <tr>\n",
       "      <th>3</th>\n",
       "      <td>Kansas City Chiefs</td>\n",
       "      <td>Los Angeles Chargers</td>\n",
       "      <td>30</td>\n",
       "      <td>27</td>\n",
       "      <td>322</td>\n",
       "      <td>163</td>\n",
       "      <td>1</td>\n",
       "      <td>250</td>\n",
       "      <td>115</td>\n",
       "      <td>2</td>\n",
       "      <td>...</td>\n",
       "      <td>413.6</td>\n",
       "      <td>107.2</td>\n",
       "      <td>243.8</td>\n",
       "      <td>328.2</td>\n",
       "      <td>145.8</td>\n",
       "      <td>217.2</td>\n",
       "      <td>346.1</td>\n",
       "      <td>89.6</td>\n",
       "      <td>281.8</td>\n",
       "      <td>359.3</td>\n",
       "    </tr>\n",
       "    <tr>\n",
       "      <th>4</th>\n",
       "      <td>Philadelphia Eagles</td>\n",
       "      <td>Jacksonville Jaguars</td>\n",
       "      <td>29</td>\n",
       "      <td>21</td>\n",
       "      <td>191</td>\n",
       "      <td>210</td>\n",
       "      <td>1</td>\n",
       "      <td>148</td>\n",
       "      <td>71</td>\n",
       "      <td>5</td>\n",
       "      <td>...</td>\n",
       "      <td>389.1</td>\n",
       "      <td>121.6</td>\n",
       "      <td>208.7</td>\n",
       "      <td>301.5</td>\n",
       "      <td>114.8</td>\n",
       "      <td>250.5</td>\n",
       "      <td>353.3</td>\n",
       "      <td>124.5</td>\n",
       "      <td>244.0</td>\n",
       "      <td>357.4</td>\n",
       "    </tr>\n",
       "  </tbody>\n",
       "</table>\n",
       "<p>5 rows × 23 columns</p>\n",
       "</div>"
      ],
      "text/plain": [
       "                 Team1                 Team2  Team1_Score  Team2_Score  \\\n",
       "0  Philadelphia Eagles     Minnesota Vikings           24            7   \n",
       "1  Philadelphia Eagles         Chicago Bears           25           20   \n",
       "2   Kansas City Chiefs  Los Angeles Chargers           27           24   \n",
       "3   Kansas City Chiefs  Los Angeles Chargers           30           27   \n",
       "4  Philadelphia Eagles  Jacksonville Jaguars           29           21   \n",
       "\n",
       "   Team1_Passing  Team1_Rushing  Team1_Turnovers  Team2_Passing  \\\n",
       "0            323            163                1            202   \n",
       "1            309            112                3             91   \n",
       "2            226             93                0            326   \n",
       "3            322            163                1            250   \n",
       "4            191            210                1            148   \n",
       "\n",
       "   Team2_Rushing  Team2_Turnovers  ...  team1_offence_overall  \\\n",
       "0             62                3  ...                  389.1   \n",
       "1            157                1  ...                  389.1   \n",
       "2             75                1  ...                  413.6   \n",
       "3            115                2  ...                  413.6   \n",
       "4             71                5  ...                  389.1   \n",
       "\n",
       "   team1_defence_rushing  team1_defence_passing  team1_defence_overall   \\\n",
       "0                  121.6                  208.7                   301.5   \n",
       "1                  121.6                  208.7                   301.5   \n",
       "2                  107.2                  243.8                   328.2   \n",
       "3                  107.2                  243.8                   328.2   \n",
       "4                  121.6                  208.7                   301.5   \n",
       "\n",
       "   team2_defence_rushing  team2_defence_passing  team2_defence_overall  \\\n",
       "0                  123.1                  279.8                  388.7   \n",
       "1                  157.3                  225.9                  375.9   \n",
       "2                  145.8                  217.2                  346.1   \n",
       "3                  145.8                  217.2                  346.1   \n",
       "4                  114.8                  250.5                  353.3   \n",
       "\n",
       "   team2_offence_rushing  team2_offence_passing  team2_offence_overall  \n",
       "0                   97.7                  283.4                  361.5  \n",
       "1                  177.3                  152.8                  307.8  \n",
       "2                   89.6                  281.8                  359.3  \n",
       "3                   89.6                  281.8                  359.3  \n",
       "4                  124.5                  244.0                  357.4  \n",
       "\n",
       "[5 rows x 23 columns]"
      ]
     },
     "execution_count": 107,
     "metadata": {},
     "output_type": "execute_result"
    }
   ],
   "source": [
    "list(file)\n",
    "\n",
    "file.head()"
   ]
  },
  {
   "cell_type": "markdown",
   "id": "fc0e28db",
   "metadata": {},
   "source": [
    "***Linear regression***"
   ]
  },
  {
   "cell_type": "code",
   "execution_count": 39,
   "id": "67d5d6cf",
   "metadata": {},
   "outputs": [],
   "source": [
    "#team 1 score model\n",
    "X_linear = file.iloc[:,11:]\n",
    "y_linear = file.iloc[:,2]"
   ]
  },
  {
   "cell_type": "code",
   "execution_count": 257,
   "id": "22c183c7",
   "metadata": {},
   "outputs": [
    {
     "name": "stdout",
     "output_type": "stream",
     "text": [
      "prediction for team 1 score:  33.03125\n",
      "accuracy rate:  0.13\n",
      "MAPE :  0.24\n",
      "RSME :  9.19\n",
      "MSE :  56.84\n"
     ]
    },
    {
     "name": "stderr",
     "output_type": "stream",
     "text": [
      "C:\\Users\\Public\\anaconda3\\lib\\site-packages\\sklearn\\base.py:493: FutureWarning: The feature names should match those that were passed during fit. Starting version 1.2, an error will be raised.\n",
      "Feature names unseen at fit time:\n",
      "- defence1_OVERALL\n",
      "- defence1_PASSING\n",
      "- defence1_RUSHING\n",
      "- defence_OVERALL\n",
      "- defence_PASSING\n",
      "- ...\n",
      "Feature names seen at fit time, yet now missing:\n",
      "- team1_defence_overall \n",
      "- team1_defence_passing\n",
      "- team1_defence_rushing\n",
      "- team1_offence_overall\n",
      "- team1_offence_passing \n",
      "- ...\n",
      "\n",
      "  warnings.warn(message, FutureWarning)\n"
     ]
    }
   ],
   "source": [
    "reg = LinearRegression().fit(X_linear, y_linear)\n",
    "reg.score(X_linear, y_linear)\n",
    "\n",
    "\n",
    "MSE_linear = mean_squared_error(list(y_linear), reg.predict(X_linear))\n",
    " \n",
    "RMSE_linear = math.sqrt(MSE)\n",
    "\n",
    "print('prediction for team 1 score: ',reg.predict(test.iloc[:,1:])[0])\n",
    "print('accuracy rate: ',round(reg.score(X_linear, y_linear),2))\n",
    "print('MAPE : ',round(mape(list(y_linear), reg.predict(X_linear)),2))\n",
    "print('RSME : ',round(RMSE_linear,2))\n",
    "print('MSE : ',round(MSE_linear,2))\n"
   ]
  },
  {
   "cell_type": "code",
   "execution_count": 284,
   "id": "d5a44901",
   "metadata": {
    "scrolled": false
   },
   "outputs": [
    {
     "name": "stdout",
     "output_type": "stream",
     "text": [
      "prediction for team 2 score:  12.203125\n",
      "accuracy rate:  0.22\n",
      "MAPE :  0.37\n",
      "RSME :  9.19\n",
      "MSE :  50.38\n"
     ]
    },
    {
     "name": "stderr",
     "output_type": "stream",
     "text": [
      "C:\\Users\\Public\\anaconda3\\lib\\site-packages\\sklearn\\base.py:493: FutureWarning: The feature names should match those that were passed during fit. Starting version 1.2, an error will be raised.\n",
      "Feature names unseen at fit time:\n",
      "- defence1_OVERALL\n",
      "- defence1_PASSING\n",
      "- defence1_RUSHING\n",
      "- defence_OVERALL\n",
      "- defence_PASSING\n",
      "- ...\n",
      "Feature names seen at fit time, yet now missing:\n",
      "- team1_defence_overall \n",
      "- team1_defence_passing\n",
      "- team1_defence_rushing\n",
      "- team1_offence_overall\n",
      "- team1_offence_passing \n",
      "- ...\n",
      "\n",
      "  warnings.warn(message, FutureWarning)\n"
     ]
    }
   ],
   "source": [
    "#team 2 score model\n",
    "X_linear_2 = file.iloc[:,11:]\n",
    "y_linear_2 = file.iloc[:,3]\n",
    "reg1 = LinearRegression().fit(X_linear_2, y_linear_2)\n",
    "\n",
    "MSE_linear1 = mean_squared_error(list(y_linear_2), reg1.predict(X_linear_2))\n",
    " \n",
    "RMSE_linear1 = math.sqrt(MSE)\n",
    "\n",
    "print('prediction for team 2 score: ',reg1.predict(test.iloc[:,1:])[0])\n",
    "print('accuracy rate: ',round(reg1.score(X_linear_2 , y_linear_2),2))\n",
    "print('MAPE : ',round(mape(list(y_linear_2), reg1.predict(X_linear_2)),2))\n",
    "print('RSME : ',round(RMSE_linear1,2))\n",
    "print('MSE : ',round(MSE_linear1,2))\n"
   ]
  },
  {
   "cell_type": "markdown",
   "id": "b7b4c74e",
   "metadata": {},
   "source": [
    "***logistic regression***"
   ]
  },
  {
   "cell_type": "code",
   "execution_count": 262,
   "id": "031def69",
   "metadata": {},
   "outputs": [
    {
     "name": "stdout",
     "output_type": "stream",
     "text": [
      "prediction for team 2 score:  1\n",
      "accuracy rate:  0.89\n",
      "recall score:  0.73\n",
      "MAPE :  nan\n",
      "RSME :  81.35\n",
      "MSE :  9.02\n"
     ]
    },
    {
     "name": "stderr",
     "output_type": "stream",
     "text": [
      "C:\\Users\\Public\\anaconda3\\lib\\site-packages\\sklearn\\linear_model\\_logistic.py:814: ConvergenceWarning: lbfgs failed to converge (status=1):\n",
      "STOP: TOTAL NO. of ITERATIONS REACHED LIMIT.\n",
      "\n",
      "Increase the number of iterations (max_iter) or scale the data as shown in:\n",
      "    https://scikit-learn.org/stable/modules/preprocessing.html\n",
      "Please also refer to the documentation for alternative solver options:\n",
      "    https://scikit-learn.org/stable/modules/linear_model.html#logistic-regression\n",
      "  n_iter_i = _check_optimize_result(\n",
      "C:\\Users\\Public\\anaconda3\\lib\\site-packages\\sklearn\\base.py:493: FutureWarning: The feature names should match those that were passed during fit. Starting version 1.2, an error will be raised.\n",
      "Feature names unseen at fit time:\n",
      "- defence1_OVERALL\n",
      "- defence1_PASSING\n",
      "- defence1_RUSHING\n",
      "- defence_OVERALL\n",
      "- defence_PASSING\n",
      "- ...\n",
      "Feature names seen at fit time, yet now missing:\n",
      "- team1_defence_overall \n",
      "- team1_defence_passing\n",
      "- team1_defence_rushing\n",
      "- team1_offence_overall\n",
      "- team1_offence_passing \n",
      "- ...\n",
      "\n",
      "  warnings.warn(message, FutureWarning)\n",
      "C:\\Users\\Brian Lin\\AppData\\Local\\Temp\\ipykernel_20660\\2346897411.py:8: RuntimeWarning: invalid value encountered in longlong_scalars\n",
      "  per_err = (a[day] - b[day]) / a[day]\n",
      "C:\\Users\\Brian Lin\\AppData\\Local\\Temp\\ipykernel_20660\\2346897411.py:8: RuntimeWarning: divide by zero encountered in longlong_scalars\n",
      "  per_err = (a[day] - b[day]) / a[day]\n"
     ]
    }
   ],
   "source": [
    "X_logic = file.iloc[:,11:]\n",
    "y_logic = file.iloc[:,10]\n",
    "clf_log = LogisticRegression(random_state=0).fit(X_logic, y_logic)\n",
    "\n",
    "\n",
    "\n",
    "MSE_logic = mean_squared_error(list(y_neu2), clf_new1.predict(X_neu2))\n",
    " \n",
    "RMSE_logic = math.sqrt(MSE1)\n",
    "\n",
    "print('prediction for team 2 score: ',clf_log.predict(test.iloc[:,1:])[0])\n",
    "print('accuracy rate: ',round(clf_log .score(X_logic, y_logic),2))\n",
    "print('recall score: ',round(recall_score(list(y_logic), clf_log.predict(X_logic), average='macro'),2))\n",
    "print('MAPE : ',round(mape(list(y_logic), clf_log.predict(X_logic)),2))\n",
    "print('RSME : ',round(MSE_logic,2))\n",
    "print('MSE : ',round(RMSE_logic,2))"
   ]
  },
  {
   "cell_type": "code",
   "execution_count": 112,
   "id": "3941f8bc",
   "metadata": {},
   "outputs": [
    {
     "name": "stderr",
     "output_type": "stream",
     "text": [
      "C:\\Users\\Public\\anaconda3\\lib\\site-packages\\sklearn\\base.py:493: FutureWarning: The feature names should match those that were passed during fit. Starting version 1.2, an error will be raised.\n",
      "Feature names unseen at fit time:\n",
      "- defence1_OVERALL\n",
      "- defence1_PASSING\n",
      "- defence1_RUSHING\n",
      "- defence_OVERALL\n",
      "- defence_PASSING\n",
      "- ...\n",
      "Feature names seen at fit time, yet now missing:\n",
      "- team1_defence_overall \n",
      "- team1_defence_passing\n",
      "- team1_defence_rushing\n",
      "- team1_offence_overall\n",
      "- team1_offence_passing \n",
      "- ...\n",
      "\n",
      "  warnings.warn(message, FutureWarning)\n"
     ]
    },
    {
     "data": {
      "text/plain": [
       "array([[3.08366612e-06, 9.99996916e-01]])"
      ]
     },
     "execution_count": 112,
     "metadata": {},
     "output_type": "execute_result"
    }
   ],
   "source": [
    "#wining rate: philly\n",
    "clf_log.predict_proba(test.iloc[:,1:])"
   ]
  },
  {
   "cell_type": "markdown",
   "id": "86be7493",
   "metadata": {},
   "source": [
    "***neural network***"
   ]
  },
  {
   "cell_type": "code",
   "execution_count": 240,
   "id": "1d3ca250",
   "metadata": {},
   "outputs": [],
   "source": [
    "def mape(a,b):\n",
    "    APE = []\n",
    "  \n",
    "    # Iterate over the list values\n",
    "    for day in range(len(a)):\n",
    "\n",
    "        # Calculate percentage error\n",
    "        per_err = (a[day] - b[day]) / a[day]\n",
    "\n",
    "        # Take absolute value of\n",
    "        # the percentage error (APE)\n",
    "        per_err = abs(per_err)\n",
    "\n",
    "        # Append it to the APE list\n",
    "        APE.append(per_err)\n",
    "    MAPE = sum(APE)/len(APE)\n",
    "    return MAPE"
   ]
  },
  {
   "cell_type": "code",
   "execution_count": 251,
   "id": "25740144",
   "metadata": {
    "scrolled": false
   },
   "outputs": [
    {
     "name": "stdout",
     "output_type": "stream",
     "text": [
      "prediction for team 1 score:  24\n",
      "accuracy rate:  0.11\n",
      "recall score:  0.05\n",
      "MAPE :  0.24\n",
      "RSME :  9.19\n",
      "MSE :  84.41\n"
     ]
    },
    {
     "name": "stderr",
     "output_type": "stream",
     "text": [
      "C:\\Users\\Public\\anaconda3\\lib\\site-packages\\sklearn\\base.py:493: FutureWarning: The feature names should match those that were passed during fit. Starting version 1.2, an error will be raised.\n",
      "Feature names unseen at fit time:\n",
      "- defence1_OVERALL\n",
      "- defence1_PASSING\n",
      "- defence1_RUSHING\n",
      "- defence_OVERALL\n",
      "- defence_PASSING\n",
      "- ...\n",
      "Feature names seen at fit time, yet now missing:\n",
      "- team1_defence_overall \n",
      "- team1_defence_passing\n",
      "- team1_defence_rushing\n",
      "- team1_offence_overall\n",
      "- team1_offence_passing \n",
      "- ...\n",
      "\n",
      "  warnings.warn(message, FutureWarning)\n"
     ]
    }
   ],
   "source": [
    "#team1 score: philly\n",
    "from sklearn.neural_network import MLPClassifier\n",
    "from sklearn.metrics import recall_score\n",
    "from sklearn.metrics import mean_squared_error\n",
    "import math\n",
    "\n",
    "X_neu1 = file.iloc[:,11:]\n",
    "y_neu1 = file.iloc[:,2]\n",
    "\n",
    "clf_new1 = MLPClassifier(solver='lbfgs', alpha=1e-5,\n",
    "                    hidden_layer_sizes=(10, 2), random_state=1)\n",
    "clf_new1.fit(X_neu1,y_neu1)\n",
    "MLPClassifier(alpha=1e-05, hidden_layer_sizes=(5, 2), random_state=1,\n",
    "              solver='lbfgs')\n",
    "\n",
    "MSE = mean_squared_error(list(y_neu1), clf_new1.predict(X_neu1))\n",
    " \n",
    "RMSE = math.sqrt(MSE)\n",
    "\n",
    "print('prediction for team 1 score: ',clf_new1.predict(test.iloc[:,1:])[0])\n",
    "print('accuracy rate: ',round(clf_new1.score(X_neu1,y_neu1),2))\n",
    "print('recall score: ',round(recall_score(list(y_neu1), clf_new1.predict(X_neu1), average='macro'),2))\n",
    "print('MAPE : ',round(mape(list(y_neu1), clf_new1.predict(X_neu1)),2))\n",
    "print('RSME : ',round(RMSE,2))\n",
    "print('MSE : ',round(MSE,2))"
   ]
  },
  {
   "cell_type": "code",
   "execution_count": 252,
   "id": "a84f1c4b",
   "metadata": {},
   "outputs": [
    {
     "name": "stdout",
     "output_type": "stream",
     "text": [
      "prediction for team 2 score:  17\n",
      "accuracy rate:  0.11\n",
      "recall score:  0.06\n",
      "MAPE :  0.4\n",
      "RSME :  9.02\n",
      "MSE :  81.35\n"
     ]
    },
    {
     "name": "stderr",
     "output_type": "stream",
     "text": [
      "C:\\Users\\Public\\anaconda3\\lib\\site-packages\\sklearn\\base.py:493: FutureWarning: The feature names should match those that were passed during fit. Starting version 1.2, an error will be raised.\n",
      "Feature names unseen at fit time:\n",
      "- defence1_OVERALL\n",
      "- defence1_PASSING\n",
      "- defence1_RUSHING\n",
      "- defence_OVERALL\n",
      "- defence_PASSING\n",
      "- ...\n",
      "Feature names seen at fit time, yet now missing:\n",
      "- team1_defence_overall \n",
      "- team1_defence_passing\n",
      "- team1_defence_rushing\n",
      "- team1_offence_overall\n",
      "- team1_offence_passing \n",
      "- ...\n",
      "\n",
      "  warnings.warn(message, FutureWarning)\n"
     ]
    }
   ],
   "source": [
    "#team2 score: kansas\n",
    "from sklearn.neural_network import MLPClassifier\n",
    "X_neu2 = file.iloc[:,11:]\n",
    "y_neu2 = file.iloc[:,3]\n",
    "\n",
    "\n",
    "clf_1_new2= MLPClassifier(solver='lbfgs', alpha=1e-5,\n",
    "                    hidden_layer_sizes=(10, 2), random_state=1)\n",
    "clf_1_new2.fit(X_neu2,y_neu2)\n",
    "MLPClassifier(alpha=1e-05, hidden_layer_sizes=(5, 2), random_state=1,\n",
    "              solver='lbfgs')\n",
    "\n",
    "\n",
    "MSE1 = mean_squared_error(list(y_neu2), clf_new1.predict(X_neu2))\n",
    " \n",
    "RMSE1 = math.sqrt(MSE1)\n",
    "\n",
    "print('prediction for team 2 score: ',clf_1_new2.predict(test.iloc[:,1:])[0])\n",
    "print('accuracy rate: ',round(clf_new1.score(X_neu2,y_neu2),2))\n",
    "print('recall score: ',round(recall_score(list(y_neu2), clf_1_new2.predict(X_neu2), average='macro'),2))\n",
    "print('MAPE : ',round(mape(list(y_neu2), clf_1_new2.predict(X_neu2)),2))\n",
    "print('RSME : ',round(RMSE1,2))\n",
    "print('MSE : ',round(MSE1,2))"
   ]
  },
  {
   "cell_type": "code",
   "execution_count": 282,
   "id": "cde623d7",
   "metadata": {},
   "outputs": [
    {
     "name": "stdout",
     "output_type": "stream",
     "text": [
      "prediction for team 1 win:  1\n",
      "accuracy rate:  0.84\n",
      "recall score:  0.5\n",
      "MAPE :  inf\n",
      "RSME :  0.4\n",
      "MSE :  0.16\n"
     ]
    },
    {
     "name": "stderr",
     "output_type": "stream",
     "text": [
      "C:\\Users\\Public\\anaconda3\\lib\\site-packages\\sklearn\\base.py:493: FutureWarning: The feature names should match those that were passed during fit. Starting version 1.2, an error will be raised.\n",
      "Feature names unseen at fit time:\n",
      "- defence1_OVERALL\n",
      "- defence1_PASSING\n",
      "- defence1_RUSHING\n",
      "- defence_OVERALL\n",
      "- defence_PASSING\n",
      "- ...\n",
      "Feature names seen at fit time, yet now missing:\n",
      "- team1_defence_overall \n",
      "- team1_defence_passing\n",
      "- team1_defence_rushing\n",
      "- team1_offence_overall\n",
      "- team1_offence_passing \n",
      "- ...\n",
      "\n",
      "  warnings.warn(message, FutureWarning)\n",
      "C:\\Users\\Brian Lin\\AppData\\Local\\Temp\\ipykernel_20660\\2346897411.py:8: RuntimeWarning: divide by zero encountered in longlong_scalars\n",
      "  per_err = (a[day] - b[day]) / a[day]\n"
     ]
    }
   ],
   "source": [
    "#team1 win\n",
    "from sklearn.neural_network import MLPClassifier\n",
    "X_neu_win = file.iloc[:,11:]\n",
    "y_neu_win = file.iloc[:,10]\n",
    "\n",
    "\n",
    "clf_1_new2_win= MLPClassifier(solver='lbfgs', alpha=1e-5,\n",
    "                    hidden_layer_sizes=(10, 2), random_state=1)\n",
    "clf_1_new2_win.fit(X_neu_win,y_neu_win)\n",
    "MLPClassifier(alpha=1e-05, hidden_layer_sizes=(5, 2), random_state=1,\n",
    "              solver='lbfgs')\n",
    "\n",
    "\n",
    "MSE1_win = mean_squared_error(list(y_neu_win), clf_1_new2_win.predict(X_neu_win))\n",
    " \n",
    "RMSE1_win = math.sqrt(MSE1_win)\n",
    "\n",
    "print('prediction for team 1 win: ',clf_1_new2_win.predict(test.iloc[:,1:])[0])\n",
    "print('accuracy rate: ',round(clf_1_new2_win.score(X_neu_win,y_neu_win),2))\n",
    "print('recall score: ',round(recall_score(list(y_neu_win), clf_1_new2_win.predict(X_neu_win), average='macro'),2))\n",
    "print('MAPE : ',round(mape(list(y_neu_win), clf_1_new2_win.predict(X_neu_win)),2))\n",
    "print('RSME : ',round(RMSE1_win,2))\n",
    "print('MSE : ',round(MSE1_win,2))"
   ]
  },
  {
   "cell_type": "markdown",
   "id": "15565d39",
   "metadata": {},
   "source": [
    "***random forest***"
   ]
  },
  {
   "cell_type": "code",
   "execution_count": 209,
   "id": "df74f2ee",
   "metadata": {},
   "outputs": [
    {
     "name": "stdout",
     "output_type": "stream",
     "text": [
      "RandomForestRegressor(n_estimators=1000, random_state=42)\n",
      "\n"
     ]
    }
   ],
   "source": [
    "from sklearn.ensemble import RandomForestRegressor\n",
    "import numpy as np\n",
    "from sklearn.metrics import mean_absolute_error\n",
    "\n",
    "#team 1 score : philly\n",
    "X_rf = file.iloc[:,11:]\n",
    "y_rf = file.iloc[:,2]\n",
    "rf = RandomForestRegressor(n_estimators = 1000, random_state = 42)"
   ]
  },
  {
   "cell_type": "code",
   "execution_count": 267,
   "id": "fbc2e4ad",
   "metadata": {
    "scrolled": false
   },
   "outputs": [
    {
     "name": "stderr",
     "output_type": "stream",
     "text": [
      "C:\\Users\\Public\\anaconda3\\lib\\site-packages\\sklearn\\base.py:493: FutureWarning: The feature names should match those that were passed during fit. Starting version 1.2, an error will be raised.\n",
      "Feature names unseen at fit time:\n",
      "- defence1_OVERALL\n",
      "- defence1_PASSING\n",
      "- defence1_RUSHING\n",
      "- defence_OVERALL\n",
      "- defence_PASSING\n",
      "- ...\n",
      "Feature names seen at fit time, yet now missing:\n",
      "- team1_defence_overall \n",
      "- team1_defence_passing\n",
      "- team1_defence_rushing\n",
      "- team1_offence_overall\n",
      "- team1_offence_passing \n",
      "- ...\n",
      "\n",
      "  warnings.warn(message, FutureWarning)\n",
      "C:\\Users\\Public\\anaconda3\\lib\\site-packages\\sklearn\\base.py:493: FutureWarning: The feature names should match those that were passed during fit. Starting version 1.2, an error will be raised.\n",
      "Feature names unseen at fit time:\n",
      "- defence1_OVERALL\n",
      "- defence1_PASSING\n",
      "- defence1_RUSHING\n",
      "- defence_OVERALL\n",
      "- defence_PASSING\n",
      "- ...\n",
      "Feature names seen at fit time, yet now missing:\n",
      "- team1_defence_overall \n",
      "- team1_defence_passing\n",
      "- team1_defence_rushing\n",
      "- team1_offence_overall\n",
      "- team1_offence_passing \n",
      "- ...\n",
      "\n",
      "  warnings.warn(message, FutureWarning)\n"
     ]
    },
    {
     "name": "stdout",
     "output_type": "stream",
     "text": [
      "[26.24613095]\n",
      "Mean Absolute Error: 6.32 degrees.\n",
      "prediction for team 1 score:  26.24613095238095\n",
      "accuracy rate:  0.68\n",
      "Mean Absolute Error:  6.32\n",
      "MAPE :  0.13\n",
      "RSME :  157.02\n",
      "MSE :  9.02\n"
     ]
    }
   ],
   "source": [
    "predictions = rf.predict(test.iloc[:,1:])\n",
    "print(predictions)\n",
    "errors1 = abs(predictions - y_rf)\n",
    "print('Mean Absolute Error:', round(np.mean(errors1), 2), 'degrees.')\n",
    "\n",
    "MSE_rf = mean_squared_error(list(y_neu2), rf.predict(X_neu2))\n",
    " \n",
    "RMSE_rf = math.sqrt(MSE1)\n",
    "errors = abs(predictions - y_rf)\n",
    "\n",
    "print('prediction for team 1 score: ',rf.predict(test.iloc[:,1:])[0])\n",
    "print('accuracy rate: ',round(rf.score(X_rf, y_rf),2))\n",
    "print('Mean Absolute Error: ',round(np.mean(errors), 2))\n",
    "# print('recall score: ',round(recall_score(list(y_rf), rf.predict(X_rf), average='macro'),2))\n",
    "print('MAPE : ',round(mape(list(y_rf), rf.predict(X_rf)),2))\n",
    "print('RSME : ',round(MSE_rf,2))\n",
    "print('MSE : ',round(RMSE_rf,2))"
   ]
  },
  {
   "cell_type": "code",
   "execution_count": 268,
   "id": "48604f50",
   "metadata": {},
   "outputs": [
    {
     "name": "stdout",
     "output_type": "stream",
     "text": [
      "prediction of team 2  [26.24613095]\n",
      "prediction for team 2 score:  26.24613095238095\n",
      "accuracy rate:  0.55\n",
      "Mean Absolute Error: 6.51 degrees.\n",
      "MAPE :  0.81\n",
      "RSME :  157.02\n",
      "MSE :  9.02\n"
     ]
    },
    {
     "name": "stderr",
     "output_type": "stream",
     "text": [
      "C:\\Users\\Public\\anaconda3\\lib\\site-packages\\sklearn\\base.py:493: FutureWarning: The feature names should match those that were passed during fit. Starting version 1.2, an error will be raised.\n",
      "Feature names unseen at fit time:\n",
      "- defence1_OVERALL\n",
      "- defence1_PASSING\n",
      "- defence1_RUSHING\n",
      "- defence_OVERALL\n",
      "- defence_PASSING\n",
      "- ...\n",
      "Feature names seen at fit time, yet now missing:\n",
      "- team1_defence_overall \n",
      "- team1_defence_passing\n",
      "- team1_defence_rushing\n",
      "- team1_offence_overall\n",
      "- team1_offence_passing \n",
      "- ...\n",
      "\n",
      "  warnings.warn(message, FutureWarning)\n",
      "C:\\Users\\Public\\anaconda3\\lib\\site-packages\\sklearn\\base.py:493: FutureWarning: The feature names should match those that were passed during fit. Starting version 1.2, an error will be raised.\n",
      "Feature names unseen at fit time:\n",
      "- defence1_OVERALL\n",
      "- defence1_PASSING\n",
      "- defence1_RUSHING\n",
      "- defence_OVERALL\n",
      "- defence_PASSING\n",
      "- ...\n",
      "Feature names seen at fit time, yet now missing:\n",
      "- team1_defence_overall \n",
      "- team1_defence_passing\n",
      "- team1_defence_rushing\n",
      "- team1_offence_overall\n",
      "- team1_offence_passing \n",
      "- ...\n",
      "\n",
      "  warnings.warn(message, FutureWarning)\n"
     ]
    }
   ],
   "source": [
    "#team 2 score : kansas\n",
    "X_rf1 = file.iloc[:,11:]\n",
    "y_rf1 = file.iloc[:,3]\n",
    "rf1 = RandomForestRegressor(n_estimators = 1000, random_state = 42)\n",
    "rf1.fit(X_rf1, y_rf1)\n",
    "predictions1 = rf1.predict(test.iloc[:,1:])\n",
    "print(\"prediction of team 2 \",predictions)\n",
    "errors1 = abs(predictions1 - y_rf1)\n",
    "\n",
    "\n",
    "\n",
    "MSE_rf1= mean_squared_error(list(y_neu2), rf.predict(X_neu2))\n",
    " \n",
    "RMSE_rf1= math.sqrt(MSE1)\n",
    "errors = abs(predictions - y_rf1)\n",
    "\n",
    "print('prediction for team 2 score: ',rf.predict(test.iloc[:,1:])[0])\n",
    "print('accuracy rate: ',round(rf1.score(X_rf1, y_rf1),2))\n",
    "print('Mean Absolute Error:', round(np.mean(errors1), 2), 'degrees.')\n",
    "# print('recall score: ',round(recall_score(list(y_rf), rf.predict(X_rf), average='macro'),2))\n",
    "print('MAPE : ',round(mape(list(y_rf1), rf.predict(X_rf1)),2))\n",
    "print('RSME : ',round(MSE_rf1,2))\n",
    "print('MSE : ',round(RMSE_rf1,2))"
   ]
  },
  {
   "cell_type": "code",
   "execution_count": 277,
   "id": "0df1375f",
   "metadata": {},
   "outputs": [
    {
     "name": "stdout",
     "output_type": "stream",
     "text": [
      "prediction of team 1  [0.989]\n",
      "Mean Absolute Error: 8.57 degrees.\n",
      "prediction for team 1 wining:  [0.989]\n",
      "accuracy rate:  0.62\n",
      "Mean Absolute Error: 0.17 degrees.\n",
      "RSME :  790.21\n",
      "MSE :  28.11\n"
     ]
    },
    {
     "name": "stderr",
     "output_type": "stream",
     "text": [
      "C:\\Users\\Public\\anaconda3\\lib\\site-packages\\sklearn\\base.py:493: FutureWarning: The feature names should match those that were passed during fit. Starting version 1.2, an error will be raised.\n",
      "Feature names unseen at fit time:\n",
      "- defence1_OVERALL\n",
      "- defence1_PASSING\n",
      "- defence1_RUSHING\n",
      "- defence_OVERALL\n",
      "- defence_PASSING\n",
      "- ...\n",
      "Feature names seen at fit time, yet now missing:\n",
      "- team1_defence_overall \n",
      "- team1_defence_passing\n",
      "- team1_defence_rushing\n",
      "- team1_offence_overall\n",
      "- team1_offence_passing \n",
      "- ...\n",
      "\n",
      "  warnings.warn(message, FutureWarning)\n",
      "C:\\Users\\Public\\anaconda3\\lib\\site-packages\\sklearn\\base.py:493: FutureWarning: The feature names should match those that were passed during fit. Starting version 1.2, an error will be raised.\n",
      "Feature names unseen at fit time:\n",
      "- defence1_OVERALL\n",
      "- defence1_PASSING\n",
      "- defence1_RUSHING\n",
      "- defence_OVERALL\n",
      "- defence_PASSING\n",
      "- ...\n",
      "Feature names seen at fit time, yet now missing:\n",
      "- team1_defence_overall \n",
      "- team1_defence_passing\n",
      "- team1_defence_rushing\n",
      "- team1_offence_overall\n",
      "- team1_offence_passing \n",
      "- ...\n",
      "\n",
      "  warnings.warn(message, FutureWarning)\n"
     ]
    }
   ],
   "source": [
    "#team 1 win\n",
    "X_rf_win = file.iloc[:,11:]\n",
    "y_rf_win = file.iloc[:,10]\n",
    "rf_win = RandomForestRegressor(n_estimators = 1000, random_state = 42)\n",
    "rf_win.fit(X_rf_win, y_rf_win)\n",
    "predictions = rf_win.predict(test.iloc[:,1:])\n",
    "print(\"prediction of team 1 \",predictions)\n",
    "errors_win = abs(predictions - y_rf_win)\n",
    "print('Mean Absolute Error:', round(np.mean(errors), 2), 'degrees.')\n",
    "\n",
    "MSE_rf_win= mean_squared_error(list(y_rf_win), rf.predict(X_rf_win))\n",
    " \n",
    "RMSE_rf_win= math.sqrt(MSE_rf_win)\n",
    "\n",
    "\n",
    "print('prediction for team 1 wining: ',rf_win.predict(test.iloc[:,1:]))\n",
    "print('accuracy rate: ',round(rf_win.score(X_rf_win, y_rf_win),2))\n",
    "print('Mean Absolute Error:', round(np.mean(errors_win), 2), 'degrees.')\n",
    "# print('recall score: ',round(recall_score(list(y_rf_win), rf_win.predict(X_rf_win), average='macro'),2))\n",
    "# print('MAPE : ',round(mape(list(y_rf_win), rf_win.predict(X_rf_win)),2))\n",
    "print('RSME : ',round(MSE_rf_win,2))\n",
    "print('MSE : ',round(RMSE_rf_win,2))"
   ]
  },
  {
   "cell_type": "markdown",
   "id": "a15648e1",
   "metadata": {},
   "source": [
    "***knn***"
   ]
  },
  {
   "cell_type": "code",
   "execution_count": 288,
   "id": "b8ceb8eb",
   "metadata": {},
   "outputs": [
    {
     "name": "stdout",
     "output_type": "stream",
     "text": [
      "prediction for team 1 score:  [30.33333333]\n",
      "accuracy rate:  0.24\n",
      "Mean Absolute Error: 0.17 degrees.\n",
      "MAPE :  0.22\n",
      "RSME :  7.05\n",
      "MSE :  49.69\n"
     ]
    },
    {
     "name": "stderr",
     "output_type": "stream",
     "text": [
      "C:\\Users\\Public\\anaconda3\\lib\\site-packages\\sklearn\\base.py:493: FutureWarning: The feature names should match those that were passed during fit. Starting version 1.2, an error will be raised.\n",
      "Feature names unseen at fit time:\n",
      "- defence1_OVERALL\n",
      "- defence1_PASSING\n",
      "- defence1_RUSHING\n",
      "- defence_OVERALL\n",
      "- defence_PASSING\n",
      "- ...\n",
      "Feature names seen at fit time, yet now missing:\n",
      "- team1_defence_overall \n",
      "- team1_defence_passing\n",
      "- team1_defence_rushing\n",
      "- team1_offence_overall\n",
      "- team1_offence_passing \n",
      "- ...\n",
      "\n",
      "  warnings.warn(message, FutureWarning)\n"
     ]
    }
   ],
   "source": [
    "from sklearn.neighbors import KNeighborsRegressor\n",
    "from sklearn.metrics import mean_squared_error\n",
    "from math import sqrt\n",
    "#team 1 score\n",
    "X_knn = file.iloc[:,11:]\n",
    "y_knn = file.iloc[:,2]\n",
    "knn_model = KNeighborsRegressor(n_neighbors=3)\n",
    "knn_model.fit(X_knn, y_knn)\n",
    "train_preds = knn_model.predict(X_knn)\n",
    "\n",
    "mse = mean_squared_error(train_preds, y_knn)\n",
    "rmse = sqrt(mse)\n",
    "preds = knn_model.predict(test.iloc[:,1:])\n",
    "\n",
    "errors_knn = abs(train_preds - y_knn)\n",
    "\n",
    "\n",
    "MSE_rf_win= mean_squared_error(list(y_rf_win), rf.predict(X_rf_win))\n",
    " \n",
    "RMSE_rf_win= math.sqrt(MSE_rf_win)\n",
    "\n",
    "\n",
    "print('prediction for team 1 score: ',preds)\n",
    "print('accuracy rate: ',round(knn_model.score(X_knn, y_knn),2))\n",
    "print('Mean Absolute Error:', round(np.mean(errors_win), 2), 'degrees.')\n",
    "#print('recall score: ',round(recall_score(list(y_knn),knn_model.predict(X_knn), average='macro'),2))\n",
    "print('MAPE : ',round(mape(list(y_knn), knn_model.predict(X_knn)),2))\n",
    "print('RSME : ',round(rmse,2))\n",
    "print('MSE : ',round(mse,2))"
   ]
  },
  {
   "cell_type": "code",
   "execution_count": 289,
   "id": "c8da7129",
   "metadata": {},
   "outputs": [
    {
     "name": "stdout",
     "output_type": "stream",
     "text": [
      "prediction for team 2 score:  [21.]\n",
      "accuracy rate:  0.3\n",
      "Mean Absolute Error: 0.17 degrees.\n",
      "MAPE :  0.31\n",
      "RSME :  7.05\n",
      "MSE :  146.74\n"
     ]
    },
    {
     "name": "stderr",
     "output_type": "stream",
     "text": [
      "C:\\Users\\Public\\anaconda3\\lib\\site-packages\\sklearn\\base.py:493: FutureWarning: The feature names should match those that were passed during fit. Starting version 1.2, an error will be raised.\n",
      "Feature names unseen at fit time:\n",
      "- defence1_OVERALL\n",
      "- defence1_PASSING\n",
      "- defence1_RUSHING\n",
      "- defence_OVERALL\n",
      "- defence_PASSING\n",
      "- ...\n",
      "Feature names seen at fit time, yet now missing:\n",
      "- team1_defence_overall \n",
      "- team1_defence_passing\n",
      "- team1_defence_rushing\n",
      "- team1_offence_overall\n",
      "- team1_offence_passing \n",
      "- ...\n",
      "\n",
      "  warnings.warn(message, FutureWarning)\n"
     ]
    }
   ],
   "source": [
    "#team 1 score\n",
    "X_knn1 = file.iloc[:,11:]\n",
    "y_knn1 = file.iloc[:,3]\n",
    "knn_model1 = KNeighborsRegressor(n_neighbors=3)\n",
    "knn_model1.fit(X_knn1, y_knn1)\n",
    "train_preds1 = knn_model1.predict(X_knn1)\n",
    "\n",
    "mse1 = mean_squared_error(train_preds, y_knn1)\n",
    "rmse1 = sqrt(mse)\n",
    "\n",
    "preds1 = knn_model1.predict(test.iloc[:,1:])\n",
    "\n",
    "\n",
    "errors_knn = abs(train_preds1 - y_knn)\n",
    "\n",
    "\n",
    "MSE_rf_win= mean_squared_error(list(y_rf_win), rf.predict(X_rf_win))\n",
    " \n",
    "RMSE_rf_win= math.sqrt(MSE_rf_win)\n",
    "\n",
    "\n",
    "print('prediction for team 2 score: ',preds1)\n",
    "print('accuracy rate: ',round(knn_model1.score(X_knn1, y_knn1),2))\n",
    "print('Mean Absolute Error:', round(np.mean(errors_win), 2), 'degrees.')\n",
    "#print('recall score: ',round(recall_score(list(y_knn),knn_model.predict(X_knn), average='macro'),2))\n",
    "print('MAPE : ',round(mape(list(y_knn), knn_model1.predict(X_knn1)),2))\n",
    "print('RSME : ',round(rmse1,2))\n",
    "print('MSE : ',round(mse1,2))"
   ]
  },
  {
   "cell_type": "markdown",
   "id": "6a21bb2a",
   "metadata": {},
   "source": [
    "***Naive bayes***"
   ]
  },
  {
   "cell_type": "code",
   "execution_count": 160,
   "id": "39405816",
   "metadata": {},
   "outputs": [
    {
     "name": "stdout",
     "output_type": "stream",
     "text": [
      "team 1 :  0.5405405405405406\n",
      "[29]\n"
     ]
    },
    {
     "name": "stderr",
     "output_type": "stream",
     "text": [
      "C:\\Users\\Public\\anaconda3\\lib\\site-packages\\sklearn\\base.py:493: FutureWarning: The feature names should match those that were passed during fit. Starting version 1.2, an error will be raised.\n",
      "Feature names unseen at fit time:\n",
      "- defence1_OVERALL\n",
      "- defence1_PASSING\n",
      "- defence1_RUSHING\n",
      "- defence_OVERALL\n",
      "- defence_PASSING\n",
      "- ...\n",
      "Feature names seen at fit time, yet now missing:\n",
      "- team1_defence_overall \n",
      "- team1_defence_passing\n",
      "- team1_defence_rushing\n",
      "- team1_offence_overall\n",
      "- team1_offence_passing \n",
      "- ...\n",
      "\n",
      "  warnings.warn(message, FutureWarning)\n"
     ]
    }
   ],
   "source": [
    "from sklearn.naive_bayes import GaussianNB\n",
    "from sklearn.metrics import confusion_matrix,accuracy_score\n",
    "#team 1 score\n",
    "X_naive1 = file.iloc[:,11:]\n",
    "y_naive1 = file.iloc[:,2]\n",
    "\n",
    "naive_classifier1 = GaussianNB()\n",
    "naive_classifier1.fit(X_naive1, y_naive1)\n",
    "y_pred_naive1  =  naive_classifier1.predict(X_naive1)\n",
    "cm1 = confusion_matrix(y_naive1, y_pred_naive1)\n",
    "ac1 = accuracy_score(y_naive1,y_pred_naive1)\n",
    "print(\"team 1 : \",ac1)\n",
    "print(naive_classifier1.predict(test.iloc[:,1:]))"
   ]
  },
  {
   "cell_type": "code",
   "execution_count": 159,
   "id": "ad22d900",
   "metadata": {},
   "outputs": [
    {
     "name": "stdout",
     "output_type": "stream",
     "text": [
      "team 2 :  0.40540540540540543\n",
      "[7]\n"
     ]
    },
    {
     "name": "stderr",
     "output_type": "stream",
     "text": [
      "C:\\Users\\Public\\anaconda3\\lib\\site-packages\\sklearn\\base.py:493: FutureWarning: The feature names should match those that were passed during fit. Starting version 1.2, an error will be raised.\n",
      "Feature names unseen at fit time:\n",
      "- defence1_OVERALL\n",
      "- defence1_PASSING\n",
      "- defence1_RUSHING\n",
      "- defence_OVERALL\n",
      "- defence_PASSING\n",
      "- ...\n",
      "Feature names seen at fit time, yet now missing:\n",
      "- team1_defence_overall \n",
      "- team1_defence_passing\n",
      "- team1_defence_rushing\n",
      "- team1_offence_overall\n",
      "- team1_offence_passing \n",
      "- ...\n",
      "\n",
      "  warnings.warn(message, FutureWarning)\n"
     ]
    }
   ],
   "source": [
    "#team 2 score\n",
    "X_naive2 = file.iloc[:,11:]\n",
    "y_naive2 = file.iloc[:,3]\n",
    "\n",
    "naive_classifier2 = GaussianNB()\n",
    "naive_classifier2.fit(X_naive2, y_naive2)\n",
    "y_pred_naive2  =  naive_classifier2.predict(X_naive2)\n",
    "cm2 = confusion_matrix(y_naive2, y_pred_naive2)\n",
    "ac2 = accuracy_score(y_naive2,y_pred_naive2)\n",
    "print(\"team 2 : \",ac2)\n",
    "print(naive_classifier2.predict(test.iloc[:,1:]))"
   ]
  },
  {
   "cell_type": "code",
   "execution_count": 197,
   "id": "6e675dcd",
   "metadata": {},
   "outputs": [
    {
     "name": "stdout",
     "output_type": "stream",
     "text": [
      "['team1_offence_rushing', 'team1_offence_passing ', 'team1_offence_overall', 'team1_defence_rushing', 'team1_defence_passing', 'team1_defence_overall ', 'team2_defence_rushing', 'team2_defence_passing', 'team2_defence_overall', 'team2_offence_rushing', 'team2_offence_passing', 'team2_offence_overall']\n",
      "['team1_offence_rushing', 'team1_offence_passing ', 'team1_offence_overall', 'team1_defence_rushing', 'team1_defence_passing', 'team1_defence_overall ', 'team2_defence_rushing', 'team2_defence_passing', 'team2_defence_overall', 'team2_offence_rushing', 'team2_offence_passing', 'team2_offence_overall']\n"
     ]
    }
   ],
   "source": [
    "print(list(file.iloc[:,11:]))\n",
    "print(list(testnew))"
   ]
  },
  {
   "cell_type": "code",
   "execution_count": 211,
   "id": "ed1ad6f6",
   "metadata": {},
   "outputs": [
    {
     "name": "stdout",
     "output_type": "stream",
     "text": [
      "[16:22:41] WARNING: C:/buildkite-agent/builds/buildkite-windows-cpu-autoscaling-group-i-08de971ced8a8cdc6-1/xgboost/xgboost-ci-windows/src/objective/regression_obj.cu:213: reg:linear is now deprecated in favor of reg:squarederror.\n",
      "RMSE: 12.851722\n",
      "[18.36897]\n"
     ]
    }
   ],
   "source": [
    "import xgboost as xgb\n",
    "from sklearn.metrics import mean_squared_error\n",
    "import pandas as pd\n",
    "import numpy as np\n",
    "\n",
    "#team 1 score\n",
    "X_xgb = file.iloc[:,11:]\n",
    "y_xgb = file.iloc[:,2]\n",
    "\n",
    "data_dmatrix = xgb.DMatrix(data=X_xgb,label=y_xgb)\n",
    "xg_reg = xgb.XGBRegressor(objective ='reg:linear', colsample_bytree = 0.3, learning_rate = 0.1,\n",
    "                max_depth = 5, alpha = 10, n_estimators = 10)\n",
    "xg_reg.fit(X_xgb,y_xgb)\n",
    "\n",
    "preds = xg_reg.predict(X_xgb)\n",
    "rmse = np.sqrt(mean_squared_error(y_xgb, preds))\n",
    "print(\"RMSE: %f\" % (rmse))\n",
    "print(xg_reg.predict(testnew))"
   ]
  },
  {
   "cell_type": "code",
   "execution_count": 215,
   "id": "908049d9",
   "metadata": {},
   "outputs": [
    {
     "name": "stdout",
     "output_type": "stream",
     "text": [
      "[16:24:57] WARNING: C:/buildkite-agent/builds/buildkite-windows-cpu-autoscaling-group-i-08de971ced8a8cdc6-1/xgboost/xgboost-ci-windows/src/objective/regression_obj.cu:213: reg:linear is now deprecated in favor of reg:squarederror.\n",
      "RMSE: 10.544454\n",
      "[10.913336]\n"
     ]
    }
   ],
   "source": [
    "#team 2 score\n",
    "X_xgb1 = file.iloc[:,11:]\n",
    "y_xgb1 = file.iloc[:,3]\n",
    "\n",
    "data_dmatrix1 = xgb.DMatrix(data=X_xgb1,label=y_xgb1)\n",
    "xg_reg1 = xgb.XGBRegressor(objective ='reg:linear', colsample_bytree = 0.3, learning_rate = 0.1,\n",
    "                max_depth = 5, alpha = 10, n_estimators = 10)\n",
    "xg_reg1.fit(X_xgb1,y_xgb1)\n",
    "\n",
    "preds1 = xg_reg1.predict(X_xgb1)\n",
    "rmse1 = np.sqrt(mean_squared_error(y_xgb1, preds1))\n",
    "print(\"RMSE: %f\" % (rmse1))\n",
    "print(xg_reg1.predict(testnew))"
   ]
  },
  {
   "cell_type": "markdown",
   "id": "e8c3325d",
   "metadata": {},
   "source": [
    "<font size=\"15\">conclusion </font>\n",
    "\n"
   ]
  },
  {
   "cell_type": "markdown",
   "id": "e973ebba",
   "metadata": {},
   "source": [
    "\n",
    "***Linear regression: \n",
    "<br>\n",
    "<br>\n",
    "R-square: team_1_score: .125\n",
    "<br>\n",
    "R-square: team_2_score: .218\n",
    "<br>\n",
    "score(philly v.s. kansas): 33:12***\n",
    "***"
   ]
  },
  {
   "cell_type": "markdown",
   "id": "bea2a394",
   "metadata": {},
   "source": [
    "\n",
    "***Logistic regression: \n",
    "<br>\n",
    "<br>\n",
    "R-square: 0.89\n",
    "<br>\n",
    "liklihood(philly win): 0.999997***\n",
    "***"
   ]
  },
  {
   "cell_type": "markdown",
   "id": "0a0cfb78",
   "metadata": {},
   "source": [
    "\n",
    "***Neural network: \n",
    "<br>R-square: team_1_score: .14\n",
    "<br>\n",
    "R-square: team_2_score: .11\n",
    "<br>\n",
    "R-square: Wining prob: 0.89\n",
    "<br>\n",
    "score(philly v.s. kansas): 24:17***\n",
    "***"
   ]
  },
  {
   "cell_type": "markdown",
   "id": "935a4fe7",
   "metadata": {},
   "source": [
    "***random forest: \n",
    "<br>\n",
    "<br>\n",
    "R-square: team_1_score: .125\n",
    "<br>\n",
    "R-square: team_2_score: .218\n",
    "<br>\n",
    "score(philly v.s. kansas): 26:18\n",
    "<br>\n",
    "liklihood(philly win): 0.989***"
   ]
  },
  {
   "cell_type": "markdown",
   "id": "b0d3e0fe",
   "metadata": {},
   "source": [
    "***KNN: \n",
    "<br>\n",
    "<br>\n",
    "RMSE: team_1_score: 7.04\n",
    "<br>\n",
    "RMSE: team_2_score: 6.71\n",
    "<br>\n",
    "score(philly v.s. kansas): 30:20***\n"
   ]
  },
  {
   "cell_type": "markdown",
   "id": "bbb08632",
   "metadata": {},
   "source": [
    "***Naive Bayes: \n",
    "<br>\n",
    "<br>\n",
    "Accuracy score: \n",
    "Team wining : 0.84<br>\n",
    "team 1 score : 0.540<br>\n",
    "team 2 score : 0.405\n",
    "<br>\n",
    "score(philly v.s. kansas): 21:7\n",
    "<br>\n",
    "liklihood(philly win): 1***\n"
   ]
  },
  {
   "cell_type": "markdown",
   "id": "e57ab5ab",
   "metadata": {},
   "source": [
    "***XGBoost***"
   ]
  },
  {
   "cell_type": "markdown",
   "id": "76672ca3",
   "metadata": {},
   "source": [
    "\n",
    "***RMSE: team_1_score: 12.85\n",
    "<br>\n",
    "RMSE: team_2_score: 10.54\n",
    "<br>\n",
    "score(philly v.s. kansas): 18:10***"
   ]
  },
  {
   "cell_type": "markdown",
   "id": "b04518c1",
   "metadata": {},
   "source": [
    "***Guestimation:27:19, Philly wins***"
   ]
  },
  {
   "cell_type": "markdown",
   "id": "a6595b85",
   "metadata": {},
   "source": [
    "**It's impossible to use simple model to predict the wining or loosing in a sport event. Each team will give everything they have and set a a special strategy in the final. Win or go home, that's how sport it is!**|"
   ]
  },
  {
   "cell_type": "code",
   "execution_count": null,
   "id": "e829d4eb",
   "metadata": {},
   "outputs": [],
   "source": []
  }
 ],
 "metadata": {
  "kernelspec": {
   "display_name": "Python 3 (ipykernel)",
   "language": "python",
   "name": "python3"
  },
  "language_info": {
   "codemirror_mode": {
    "name": "ipython",
    "version": 3
   },
   "file_extension": ".py",
   "mimetype": "text/x-python",
   "name": "python",
   "nbconvert_exporter": "python",
   "pygments_lexer": "ipython3",
   "version": "3.9.12"
  }
 },
 "nbformat": 4,
 "nbformat_minor": 5
}
